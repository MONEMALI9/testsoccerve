{
 "cells": [
  {
   "cell_type": "markdown",
   "metadata": {},
   "source": [
    "\n",
    "# Pitch Basics\n",
    "\n",
    "First we import the Pitch classes and matplotlib\n"
   ]
  },
  {
   "cell_type": "code",
   "execution_count": null,
   "metadata": {
    "collapsed": false,
    "jupyter": {
     "outputs_hidden": false
    }
   },
   "outputs": [],
   "source": [
    "import matplotlib.pyplot as plt\n",
    "\n",
    "from mplsoccer import Pitch, VerticalPitch"
   ]
  },
  {
   "cell_type": "markdown",
   "metadata": {},
   "source": [
    "## Draw a pitch on a new axis\n",
    "Let's plot on a new axis first.\n",
    "\n"
   ]
  },
  {
   "cell_type": "code",
   "execution_count": null,
   "metadata": {
    "collapsed": false,
    "jupyter": {
     "outputs_hidden": false
    }
   },
   "outputs": [],
   "source": [
    "pitch = Pitch()\n",
    "# specifying figure size (width, height)\n",
    "fig, ax = pitch.draw(figsize=(8, 4))"
   ]
  },
  {
   "cell_type": "markdown",
   "metadata": {},
   "source": [
    "## Draw on an existing axis\n",
    "mplsoccer also plays nicely with other matplotlib figures. To draw a pitch on an\n",
    "existing matplotlib axis specify an ``ax`` in the ``draw`` method.\n",
    "\n"
   ]
  },
  {
   "cell_type": "code",
   "execution_count": null,
   "metadata": {
    "collapsed": false,
    "jupyter": {
     "outputs_hidden": false
    }
   },
   "outputs": [],
   "source": [
    "fig, axs = plt.subplots(nrows=1, ncols=2)\n",
    "pitch = Pitch()\n",
    "pie = axs[0].pie(x=[5, 15])\n",
    "pitch.draw(ax=axs[1])"
   ]
  },
  {
   "cell_type": "markdown",
   "metadata": {},
   "source": [
    "## Supported data providers\n",
    "mplsoccer supports 10 pitch types by specifying the ``pitch_type`` argument:\n",
    "'statsbomb', 'opta', 'tracab', 'wyscout', 'uefa', 'metricasports', 'custom',\n",
    "'skillcorner', 'secondspectrum' and 'impect'.\n",
    "If you are using tracking data or the custom pitch ('metricasports', 'tracab',\n",
    "'skillcorner', 'secondspectrum' or 'custom'), you also need to specify the\n",
    "``pitch_length`` and ``pitch_width``, which are typically 105 and 68 respectively.\n",
    "\n"
   ]
  },
  {
   "cell_type": "code",
   "execution_count": null,
   "metadata": {
    "collapsed": false,
    "jupyter": {
     "outputs_hidden": false
    }
   },
   "outputs": [],
   "source": [
    "pitch = Pitch(pitch_type='opta')  # example plotting an Opta/ Stats Perform pitch\n",
    "fig, ax = pitch.draw()"
   ]
  },
  {
   "cell_type": "code",
   "execution_count": null,
   "metadata": {
    "collapsed": false,
    "jupyter": {
     "outputs_hidden": false
    }
   },
   "outputs": [],
   "source": [
    "pitch = Pitch(pitch_type='tracab',  # example plotting a tracab pitch\n",
    "              pitch_length=105, pitch_width=68,\n",
    "              axis=True, label=True)  # showing axis labels is optional\n",
    "fig, ax = pitch.draw()"
   ]
  },
  {
   "cell_type": "markdown",
   "metadata": {},
   "source": [
    "## Adjusting the plot layout\n",
    "mplsoccer also plots on grids by specifying nrows and ncols.\n",
    "The default is to use\n",
    "tight_layout. See: https://matplotlib.org/stable/tutorials/intermediate/tight_layout_guide.html.\n",
    "\n"
   ]
  },
  {
   "cell_type": "code",
   "execution_count": null,
   "metadata": {
    "collapsed": false,
    "jupyter": {
     "outputs_hidden": false
    }
   },
   "outputs": [],
   "source": [
    "pitch = Pitch()\n",
    "fig, axs = pitch.draw(nrows=2, ncols=3)"
   ]
  },
  {
   "cell_type": "markdown",
   "metadata": {},
   "source": [
    "But you can also use constrained layout\n",
    "by setting ``constrained_layout=True`` and ``tight_layout=False``, which may look better.\n",
    "See: https://matplotlib.org/stable/tutorials/intermediate/constrainedlayout_guide.html.\n",
    "\n"
   ]
  },
  {
   "cell_type": "code",
   "execution_count": null,
   "metadata": {
    "collapsed": false,
    "jupyter": {
     "outputs_hidden": false
    }
   },
   "outputs": [],
   "source": [
    "pitch = Pitch()\n",
    "fig, axs = pitch.draw(nrows=2, ncols=3, tight_layout=False, constrained_layout=True)"
   ]
  },
  {
   "cell_type": "markdown",
   "metadata": {},
   "source": [
    "If you want more control over how pitches are placed\n",
    "you can use the grid method. This also works for one pitch (nrows=1 and ncols=1).\n",
    "It also plots axes for an endnote and title (see the plot_grid example for more information).\n",
    "\n"
   ]
  },
  {
   "cell_type": "code",
   "execution_count": null,
   "metadata": {
    "collapsed": false,
    "jupyter": {
     "outputs_hidden": false
    }
   },
   "outputs": [],
   "source": [
    "pitch = Pitch()\n",
    "fig, axs = pitch.grid(nrows=3, ncols=3, figheight=10,\n",
    "                      # the grid takes up 71.5% of the figure height\n",
    "                      grid_height=0.715,\n",
    "                      # 5% of grid_height is reserved for space between axes\n",
    "                      space=0.05,\n",
    "                      # centers the grid horizontally / vertically\n",
    "                      left=None, bottom=None)"
   ]
  },
  {
   "cell_type": "markdown",
   "metadata": {},
   "source": [
    "## Pitch orientation\n",
    "There are four basic pitch orientations.\n",
    "To get vertical pitches use the VerticalPitch class.\n",
    "To get half pitches use the half=True argument.\n",
    "\n",
    "Horizontal full\n",
    "\n"
   ]
  },
  {
   "cell_type": "code",
   "execution_count": null,
   "metadata": {
    "collapsed": false,
    "jupyter": {
     "outputs_hidden": false
    }
   },
   "outputs": [],
   "source": [
    "pitch = Pitch(half=False)\n",
    "fig, ax = pitch.draw()"
   ]
  },
  {
   "cell_type": "markdown",
   "metadata": {},
   "source": [
    "Vertical full\n",
    "\n"
   ]
  },
  {
   "cell_type": "code",
   "execution_count": null,
   "metadata": {
    "collapsed": false,
    "jupyter": {
     "outputs_hidden": false
    }
   },
   "outputs": [],
   "source": [
    "pitch = VerticalPitch(half=False)\n",
    "fig, ax = pitch.draw()"
   ]
  },
  {
   "cell_type": "markdown",
   "metadata": {},
   "source": [
    "Horizontal half\n",
    "\n"
   ]
  },
  {
   "cell_type": "code",
   "execution_count": null,
   "metadata": {
    "collapsed": false,
    "jupyter": {
     "outputs_hidden": false
    }
   },
   "outputs": [],
   "source": [
    "pitch = Pitch(half=True)\n",
    "fig, ax = pitch.draw()"
   ]
  },
  {
   "cell_type": "markdown",
   "metadata": {},
   "source": [
    "Vertical half\n",
    "\n"
   ]
  },
  {
   "cell_type": "code",
   "execution_count": null,
   "metadata": {
    "collapsed": false,
    "jupyter": {
     "outputs_hidden": false
    }
   },
   "outputs": [],
   "source": [
    "pitch = VerticalPitch(half=True)\n",
    "fig, ax = pitch.draw()"
   ]
  },
  {
   "cell_type": "markdown",
   "metadata": {},
   "source": [
    "You can also adjust the pitch orientations with the ``pad_left``, ``pad_right``,\n",
    "``pad_bottom`` and ``pad_top`` arguments to make arbitrary pitch shapes.\n",
    "\n"
   ]
  },
  {
   "cell_type": "code",
   "execution_count": null,
   "metadata": {
    "collapsed": false,
    "jupyter": {
     "outputs_hidden": false
    }
   },
   "outputs": [],
   "source": [
    "pitch = VerticalPitch(half=True,\n",
    "                      pad_left=-10,  # bring the left axis in 10 data units (reduce the size)\n",
    "                      pad_right=-10,  # bring the right axis in 10 data units (reduce the size)\n",
    "                      pad_top=10,  # extend the top axis 10 data units\n",
    "                      pad_bottom=20)  # extend the bottom axis 20 data units\n",
    "fig, ax = pitch.draw()"
   ]
  },
  {
   "cell_type": "markdown",
   "metadata": {},
   "source": [
    "## Pitch appearance\n",
    "The pitch appearance is adjustable.\n",
    "Use ``pitch_color`` and ``line_color``, and ``stripe_color`` (if ``stripe=True``)\n",
    "to adjust the colors.\n",
    "\n"
   ]
  },
  {
   "cell_type": "code",
   "execution_count": null,
   "metadata": {
    "collapsed": false,
    "jupyter": {
     "outputs_hidden": false
    }
   },
   "outputs": [],
   "source": [
    "pitch = Pitch(pitch_color='#aabb97', line_color='white',\n",
    "              stripe_color='#c2d59d', stripe=True)  # optional stripes\n",
    "fig, ax = pitch.draw()"
   ]
  },
  {
   "cell_type": "markdown",
   "metadata": {},
   "source": [
    "## Line style\n",
    "The pitch line style is adjustable.\n",
    "Use ``linestyle`` and ``goal_linestyle`` to adjust the colors.\n",
    "\n"
   ]
  },
  {
   "cell_type": "code",
   "execution_count": null,
   "metadata": {
    "collapsed": false,
    "jupyter": {
     "outputs_hidden": false
    }
   },
   "outputs": [],
   "source": [
    "pitch = Pitch(linestyle='--', linewidth=1, goal_linestyle='-')\n",
    "fig, ax = pitch.draw()"
   ]
  },
  {
   "cell_type": "markdown",
   "metadata": {},
   "source": [
    "## Line alpha\n",
    "The pitch transparency is adjustable.\n",
    "Use ``pitch_alpha`` and ``goal_alpha`` to adjust the colors.\n",
    "\n"
   ]
  },
  {
   "cell_type": "code",
   "execution_count": null,
   "metadata": {
    "collapsed": false,
    "jupyter": {
     "outputs_hidden": false
    }
   },
   "outputs": [],
   "source": [
    "pitch = Pitch(line_alpha=0.5, goal_alpha=0.3)\n",
    "fig, ax = pitch.draw()"
   ]
  },
  {
   "cell_type": "markdown",
   "metadata": {},
   "source": [
    "## Corner arcs\n",
    "You can add corner arcs to the pitch by setting ``corner_arcs`` = True\n",
    "\n"
   ]
  },
  {
   "cell_type": "code",
   "execution_count": null,
   "metadata": {
    "collapsed": false,
    "jupyter": {
     "outputs_hidden": false
    }
   },
   "outputs": [],
   "source": [
    "pitch = VerticalPitch(corner_arcs=True, half=True)\n",
    "fig, ax = pitch.draw(figsize=(10, 7.727))"
   ]
  },
  {
   "cell_type": "markdown",
   "metadata": {},
   "source": [
    "## Juego de Posición\n",
    "You can add the Juego de Posición pitch lines and shade the middle third.\n",
    "You can also adjust the transparency via ``shade_alpha`` and ``positional_alpha``.\n",
    "\n"
   ]
  },
  {
   "cell_type": "code",
   "execution_count": null,
   "metadata": {
    "collapsed": false,
    "jupyter": {
     "outputs_hidden": false
    }
   },
   "outputs": [],
   "source": [
    "pitch = Pitch(positional=True, shade_middle=True, positional_color='#eadddd', shade_color='#f2f2f2')\n",
    "fig, ax = pitch.draw()"
   ]
  },
  {
   "cell_type": "markdown",
   "metadata": {},
   "source": [
    "mplsoccer can also plot grass pitches by setting ``pitch_color='grass'``.\n",
    "\n"
   ]
  },
  {
   "cell_type": "code",
   "execution_count": null,
   "metadata": {
    "collapsed": false,
    "jupyter": {
     "outputs_hidden": false
    }
   },
   "outputs": [],
   "source": [
    "pitch = Pitch(pitch_color='grass', line_color='white',\n",
    "              stripe=True)  # optional stripes\n",
    "fig, ax = pitch.draw()"
   ]
  },
  {
   "cell_type": "markdown",
   "metadata": {},
   "source": [
    "Three goal types are included ``goal_type='line'``, ``goal_type='box'``,\n",
    "and ``goal_type='circle'``\n",
    "\n"
   ]
  },
  {
   "cell_type": "code",
   "execution_count": null,
   "metadata": {
    "collapsed": false,
    "jupyter": {
     "outputs_hidden": false
    }
   },
   "outputs": [],
   "source": [
    "fig, axs = plt.subplots(nrows=3, figsize=(10, 18))\n",
    "pitch = Pitch(goal_type='box', goal_alpha=1)  # you can also adjust the transparency (alpha)\n",
    "pitch.draw(axs[0])\n",
    "pitch = Pitch(goal_type='line')\n",
    "pitch.draw(axs[1])\n",
    "pitch = Pitch(goal_type='circle', linewidth=1)\n",
    "pitch.draw(axs[2])"
   ]
  },
  {
   "cell_type": "markdown",
   "metadata": {},
   "source": [
    "The line markings and spot size can be adjusted via ``linewidth`` and ``spot_scale``.\n",
    "Spot scale also adjusts the size of the circle goal posts.\n",
    "\n"
   ]
  },
  {
   "cell_type": "code",
   "execution_count": null,
   "metadata": {
    "collapsed": false,
    "jupyter": {
     "outputs_hidden": false
    }
   },
   "outputs": [],
   "source": [
    "pitch = Pitch(linewidth=3,\n",
    "              # the size of the penalty and center spots relative to the pitch_length\n",
    "              spot_scale=0.01)\n",
    "fig, ax = pitch.draw()"
   ]
  },
  {
   "cell_type": "markdown",
   "metadata": {},
   "source": [
    "If you need to lift the pitch markings above other elements of the chart.\n",
    "You can do this via ``line_zorder``, ``stripe_zorder``,\n",
    "``positional_zorder``, and ``shade_zorder``.\n",
    "\n"
   ]
  },
  {
   "cell_type": "code",
   "execution_count": null,
   "metadata": {
    "collapsed": false,
    "jupyter": {
     "outputs_hidden": false
    }
   },
   "outputs": [],
   "source": [
    "pitch = Pitch(line_zorder=2)  # e.g. useful if you want to plot pitch lines over heatmaps\n",
    "fig, ax = pitch.draw()"
   ]
  },
  {
   "cell_type": "markdown",
   "metadata": {},
   "source": [
    "## Axis\n",
    "By default mplsoccer turns of the axis (border), ticks, and labels.\n",
    "You can use them by setting the ``axis``, ``label`` and ``tick`` arguments.\n",
    "\n"
   ]
  },
  {
   "cell_type": "code",
   "execution_count": null,
   "metadata": {
    "collapsed": false,
    "jupyter": {
     "outputs_hidden": false
    }
   },
   "outputs": [],
   "source": [
    "pitch = Pitch(axis=True, label=True, tick=True)\n",
    "fig, ax = pitch.draw()"
   ]
  },
  {
   "cell_type": "markdown",
   "metadata": {},
   "source": [
    "## xkcd\n",
    "Finally let's use matplotlib's xkcd theme.\n",
    "\n"
   ]
  },
  {
   "cell_type": "code",
   "execution_count": null,
   "metadata": {
    "collapsed": false,
    "jupyter": {
     "outputs_hidden": false
    }
   },
   "outputs": [],
   "source": [
    "plt.xkcd()\n",
    "pitch = Pitch(pitch_color='grass', stripe=True)\n",
    "fig, ax = pitch.draw(figsize=(8, 4))\n",
    "annotation = ax.annotate('Who can resist this?', (60, 10), fontsize=30, ha='center')\n",
    "\n",
    "plt.show()  # If you are using a Jupyter notebook you do not need this line"
   ]
  }
 ],
 "metadata": {
  "kernelspec": {
   "display_name": "Python 3 (ipykernel)",
   "language": "python",
   "name": "python3"
  },
  "language_info": {
   "codemirror_mode": {
    "name": "ipython",
    "version": 3
   },
   "file_extension": ".py",
   "mimetype": "text/x-python",
   "name": "python",
   "nbconvert_exporter": "python",
   "pygments_lexer": "ipython3",
   "version": "3.12.1"
  }
 },
 "nbformat": 4,
 "nbformat_minor": 4
}
